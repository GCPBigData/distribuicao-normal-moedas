{
  "nbformat": 4,
  "nbformat_minor": 0,
  "metadata": {
    "colab": {
      "name": "ModelandoDistribuiçãoNormal.ipynb",
      "provenance": [],
      "include_colab_link": true
    },
    "kernelspec": {
      "name": "python3",
      "display_name": "Python 3"
    }
  },
  "cells": [
    {
      "cell_type": "markdown",
      "metadata": {
        "id": "view-in-github",
        "colab_type": "text"
      },
      "source": [
        "<a href=\"https://colab.research.google.com/github/WittmannF/distribuicao-normal-moedas/blob/master/ModelandoDistribui%C3%A7%C3%A3oNormal.ipynb\" target=\"_parent\"><img src=\"https://colab.research.google.com/assets/colab-badge.svg\" alt=\"Open In Colab\"/></a>"
      ]
    },
    {
      "cell_type": "markdown",
      "metadata": {
        "id": "2RuwpBneIKV0",
        "colab_type": "text"
      },
      "source": [
        "# Modelando uma distribuição normal jogando moedas\n",
        "Neste post vamos modelar alguns conceitos basicos de estatística através de um dos modelos mais clássicos aleatórios: jogar moedas. Funções aleatórias são extremamente importantes para algoritmos de machine learning. Muitos tomam vantagem de tais funções aleatórias para adicionar um fator exploratório em seu algoritmo. Random Forest fazem uso de seleções aleatórias de atributos e elementos para criar diferentes árvores de decisão e desta forma evitar overfitting. Em redes neurais, overfitting também é evitado graças à aleatoriedade quando utilizamos camadas do tipo Dropout no qual aleatoriamente desativam uma certa porção dos neurônios. Algoritmos de aprendizagem de reforço também fazem uso de algoritmos aleatórios para inicialmente quando estão explorando o ambiente para a escolha de sua próxia ação. E por aí vai. Para começar, vamos criar um modelo bem simples que para tirar cara ou coroa:"
      ]
    },
    {
      "cell_type": "code",
      "metadata": {
        "id": "-FdJKm7_JR0d",
        "colab_type": "code",
        "colab": {}
      },
      "source": [
        "import random\n",
        "id_para_moeda = {0: 'coroa', 1: 'cara'}\n",
        "moeda_para_id = {'coroa': 0, 'cara': 1}\n",
        "def jogar_moeda():\n",
        "    return  id_para_moeda[random.randint(0,1)]\n"
      ],
      "execution_count": 0,
      "outputs": []
    },
    {
      "cell_type": "markdown",
      "metadata": {
        "id": "R_VzttdVKWq3",
        "colab_type": "text"
      },
      "source": [
        "Vamos agora testar:"
      ]
    },
    {
      "cell_type": "code",
      "metadata": {
        "id": "GR-ACTBYJXz6",
        "colab_type": "code",
        "outputId": "d6b710b2-949e-4abd-e7a5-948094bd1a9a",
        "colab": {
          "base_uri": "https://localhost:8080/",
          "height": 34
        }
      },
      "source": [
        "jogar_moeda()"
      ],
      "execution_count": 0,
      "outputs": [
        {
          "output_type": "execute_result",
          "data": {
            "text/plain": [
              "'coroa'"
            ]
          },
          "metadata": {
            "tags": []
          },
          "execution_count": 2
        }
      ]
    },
    {
      "cell_type": "markdown",
      "metadata": {
        "id": "3-TDnmy_Kko-",
        "colab_type": "text"
      },
      "source": [
        "Como as chances de retornar cara e coroa são as mesmas, temos que quando a moeda é jogada sequencialmente, a tendência é de que metade das vezes sairá cara e metade das vezes sairá coroa. Vamos testar jogar sequencialmente 10 vezes:"
      ]
    },
    {
      "cell_type": "code",
      "metadata": {
        "id": "ew1xXxqTKj_1",
        "colab_type": "code",
        "outputId": "92576d8c-93b9-4230-848f-7e50a1c5ae76",
        "colab": {
          "base_uri": "https://localhost:8080/",
          "height": 187
        }
      },
      "source": [
        "for i in range(10):\n",
        "    print(jogar_moeda())"
      ],
      "execution_count": 0,
      "outputs": [
        {
          "output_type": "stream",
          "text": [
            "coroa\n",
            "cara\n",
            "cara\n",
            "coroa\n",
            "cara\n",
            "cara\n",
            "cara\n",
            "coroa\n",
            "coroa\n",
            "cara\n"
          ],
          "name": "stdout"
        }
      ]
    },
    {
      "cell_type": "markdown",
      "metadata": {
        "id": "WRYJumfsLIG4",
        "colab_type": "text"
      },
      "source": [
        "Temos aqui 4 caras e 6 coroas. A pequena discrepância entra dentro do desvio padrão, como vamos confirmar em breve. \n",
        "Vamos agora testar jogar esta moeda 100 vezes seguidas e contar o número de caras e coroas."
      ]
    },
    {
      "cell_type": "code",
      "metadata": {
        "id": "juw6WP64Jd0p",
        "colab_type": "code",
        "outputId": "86c91cac-e1fa-433c-d52d-c5203f73ddb8",
        "colab": {
          "base_uri": "https://localhost:8080/",
          "height": 102
        }
      },
      "source": [
        "def jogar_n_vezes(n=100, imprimir=True):\n",
        "    if imprimir:\n",
        "        print(f'Jogando moeda {n} vezes\\n')\n",
        "    resultados = []\n",
        "    for i in range(n):\n",
        "        resultados.append(moeda_para_id[jogar_moeda()])\n",
        "    \n",
        "    n_caras = sum(resultados)\n",
        "    n_coroas = n-n_caras\n",
        "    if imprimir:\n",
        "        print(f'Resultado\\ncara - {n_caras} vezes\\ncoroa - {n_coroas} vezes')\n",
        "    return resultados, n_caras, n_coroas\n",
        "\n",
        "_=jogar_n_vezes()"
      ],
      "execution_count": 0,
      "outputs": [
        {
          "output_type": "stream",
          "text": [
            "Jogando moeda 100 vezes\n",
            "\n",
            "Resultado\n",
            "cara - 42 vezes\n",
            "coroa - 58 vezes\n"
          ],
          "name": "stdout"
        }
      ]
    },
    {
      "cell_type": "markdown",
      "metadata": {
        "id": "Yx_ZXT0hOGTw",
        "colab_type": "text"
      },
      "source": [
        "Novamente temos proximidades à 50 de cada lado. Vamos agora testar jogar estas moedas sequencialmente por 1000 rodadas e plotar em um histograma a frequencia de caras destas rodadas:"
      ]
    },
    {
      "cell_type": "code",
      "metadata": {
        "id": "Zss76BYIJlKv",
        "colab_type": "code",
        "outputId": "1b4e68ad-c34b-4b93-9143-3ecac6fdd84e",
        "colab": {
          "base_uri": "https://localhost:8080/",
          "height": 545
        }
      },
      "source": [
        "import matplotlib.pyplot as plt\n",
        "numero_de_rodadas = 1000\n",
        "jogadas_por_rodada = 100\n",
        "\n",
        "n_caras_rodada = []\n",
        "n_coroas_rodada = []\n",
        "\n",
        "for rodada in range(numero_de_rodadas):\n",
        "    _, n_caras, n_coroas = jogar_n_vezes(jogadas_por_rodada, False)\n",
        "    n_caras_rodada.append(n_caras)\n",
        "    n_coroas_rodada.append(n_coroas)\n",
        "\n",
        "_ = plt.hist(n_caras_rodada, 100)\n",
        "plt.title('Frequencia do numero de caras')\n",
        "plt.show()\n",
        "\n",
        "_ = plt.hist(n_coroas_rodada, 100)\n",
        "plt.title('Frequencia do numero de coroas')\n",
        "plt.show()"
      ],
      "execution_count": 0,
      "outputs": [
        {
          "output_type": "display_data",
          "data": {
            "image/png": "[encoded data removed]",
            "text/plain": [
              "<Figure size 432x288 with 1 Axes>"
            ]
          },
          "metadata": {
            "tags": []
          }
        },
        {
          "output_type": "display_data",
          "data": {
            "image/png": "[encoded data removed]",
            "text/plain": [
              "<Figure size 432x288 with 1 Axes>"
            ]
          },
          "metadata": {
            "tags": []
          }
        }
      ]
    },
    {
      "cell_type": "markdown",
      "metadata": {
        "id": "QdmrRlS7RkR9",
        "colab_type": "text"
      },
      "source": [
        "Pronto, chegamos aqui ao que chamamos distribuição normal. Visualmente, temos que o número de vezes que caiu cara foi 50 (centro do gráfico). Temos também que as regiões mais extremas e improváveis, o número de caras/coroas diminui. Temos que das 1000 rodadas, o menor número de coroas ocorridas foi 35 e o maior número foi 67. Vamos agora calcular algumas estatísticas:"
      ]
    },
    {
      "cell_type": "code",
      "metadata": {
        "id": "Bv7biuWOQK5P",
        "colab_type": "code",
        "outputId": "abeaf38b-d4bc-4a45-c775-23be3e7d2145",
        "colab": {
          "base_uri": "https://localhost:8080/",
          "height": 85
        }
      },
      "source": [
        "import numpy as np\n",
        "caras_avg = np.mean(n_caras_rodada)\n",
        "caras_std = np.std(n_caras_rodada)\n",
        "coroas_avg = np.mean(n_coroas_rodada)\n",
        "coroas_std = np.std(n_coroas_rodada)\n",
        "\n",
        "print(f'Média de caras: {caras_avg}')\n",
        "print(f'Média de coroas: {coroas_avg}')\n",
        "print(f'Desvio padrão de caras {caras_std:.2f}')\n",
        "print(f'Desvio padrão de coroas {coroas_std:.2f}')"
      ],
      "execution_count": 0,
      "outputs": [
        {
          "output_type": "stream",
          "text": [
            "Média de caras: 50.172\n",
            "Média de coroas: 49.828\n",
            "Desvio padrão de caras 5.04\n",
            "Desvio padrão de coroas 5.04\n"
          ],
          "name": "stdout"
        }
      ]
    },
    {
      "cell_type": "markdown",
      "metadata": {
        "id": "52Z_2MPWSzUm",
        "colab_type": "text"
      },
      "source": [
        "Conforme esperado, a média do número de coroas retornadas destas 1000 rodadas foi 50 vezes (ou seja, em média cairam 50 vezes caras). Quanto ao desvio padrão, vamos recapitular um pouco a partir da seguinte imagem (do [wikipedia](https://commons.wikimedia.org/wiki/File:Standard_deviation_diagram.svg)):\n",
        "\n",
        "![](https://upload.wikimedia.org/wikipedia/commons/thumb/8/8c/Standard_deviation_diagram.svg/500px-Standard_deviation_diagram.svg.png)\n",
        "\n",
        "Temos que 34.1+34.1 = 68.2% dos casos está dentro da região entre a média - desvio padrão e média + desvio padrão. Isso quer dizer que 68% das vezes o número de vezes que retornou cara/coroa está entre 50-5 = 45 e 50+5 = 55. Podemos também dizer que temos 68% de confiança de que o número de vezes que caiu cara está entre 45 e 55. Para uma precisão maior, temos 2 sigmas, que representam 13.6% adicionais em cada extremo. Ou seja, 68.2+2*13.6=95.4% das vezes, o número de vezes que retornou cara/coroa está entre 40 e 60. Em outras palavras, podemos dizer que temos 95% de confiança de que o número de vezes que caiu coroa está entre 40 e 60. Vamos confirmar estas informações:\n"
      ]
    },
    {
      "cell_type": "code",
      "metadata": {
        "id": "ZujQ3BQWQrb_",
        "colab_type": "code",
        "outputId": "4ec44594-101e-4496-e21d-1c52be37886c",
        "colab": {
          "base_uri": "https://localhost:8080/",
          "height": 119
        }
      },
      "source": [
        "cara_entre_45_e_55 = sum(45<=n<=55 for n in n_caras_rodada)\n",
        "cara_entre_40_e_60 = sum(40<=n<=60 for n in n_caras_rodada)\n",
        "coroa_entre_45_e_55 = sum(45<=n<=55 for n in n_coroas_rodada)\n",
        "coroa_entre_40_e_60 = sum(40<=n<=60 for n in n_coroas_rodada)\n",
        "\n",
        "print(f'Número de rodadas: {numero_de_rodadas}')\n",
        "print(f'Número de jogadas de moeda por rodada {jogadas_por_rodada}')\n",
        "print(f'Quantidade de rodadas que caíram cara entre 45 e 55 vezes: {cara_entre_45_e_55}')\n",
        "print(f'Quantidade de rodadas que caíram cara entre 40 e 60 vezes: {cara_entre_40_e_60}')\n",
        "print(f'Quantidade de rodadas que caíram coroa entre 45 e 55 vezes: {coroa_entre_45_e_55}')\n",
        "print(f'Quantidade de rodadas que caíram coroa entre 40 e 60 vezes: {coroa_entre_40_e_60}')"
      ],
      "execution_count": 0,
      "outputs": [
        {
          "output_type": "stream",
          "text": [
            "Número de rodadas: 1000\n",
            "Número de jogadas de moeda por rodada 100\n",
            "Quantidade de rodadas que caíram cara entre 45 e 55 vezes: 725\n",
            "Quantidade de rodadas que caíram cara entre 40 e 60 vezes: 968\n",
            "Quantidade de rodadas que caíram coroa entre 45 e 55 vezes: 725\n",
            "Quantidade de rodadas que caíram coroa entre 40 e 60 vezes: 968\n"
          ],
          "name": "stdout"
        }
      ]
    },
    {
      "cell_type": "markdown",
      "metadata": {
        "id": "EQg6v2G6WyRj",
        "colab_type": "text"
      },
      "source": [
        "Portanto, nossa experiência superou o grau de confiança previamente definido: 72% das vezes caiu cara dentro do intervalo de mais ou menos um desvio padrão e 96% das vezes caiu dentro do intervado de mais ou menos 2 desvios padrões. Portanto está acima da confiança definida acima."
      ]
    },
    {
      "cell_type": "code",
      "metadata": {
        "id": "U0zRBLg1ScGk",
        "colab_type": "code",
        "colab": {}
      },
      "source": [
        ""
      ],
      "execution_count": 0,
      "outputs": []
    }
  ]
}